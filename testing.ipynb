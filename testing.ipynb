{
 "cells": [
  {
   "cell_type": "code",
   "execution_count": 5,
   "id": "10326ab0-e5fe-49c8-9ea8-f6cc555d0ebb",
   "metadata": {},
   "outputs": [],
   "source": [
    "import matplotlib.pyplot as plt\n",
    "%matplotlib inline\n",
    "import numpy as np\n",
    "import pandas as pd\n",
    "import seaborn as sns\n",
    "from sklearn.linear_model import LogisticRegression#, LogisticRegressionCV"
   ]
  },
  {
   "cell_type": "code",
   "execution_count": 6,
   "id": "726c11fe-dc47-454c-8ba5-d505eb7ece5e",
   "metadata": {},
   "outputs": [],
   "source": [
    "# looking at datasets, visualizing to determine model features"
   ]
  },
  {
   "cell_type": "code",
   "execution_count": null,
   "id": "0090c6fd-1666-4fde-b96a-3d278018dcc1",
   "metadata": {},
   "outputs": [],
   "source": []
  },
  {
   "cell_type": "code",
   "execution_count": null,
   "id": "adc4ccf7-bbee-4a46-bb67-19d0b18013ed",
   "metadata": {},
   "outputs": [],
   "source": []
  },
  {
   "cell_type": "code",
   "execution_count": null,
   "id": "476d4584-c5ea-4738-8327-4e1518c8127a",
   "metadata": {},
   "outputs": [],
   "source": []
  },
  {
   "cell_type": "code",
   "execution_count": null,
   "id": "18be7ac5-8a1f-4a72-a994-0ee323d5d25b",
   "metadata": {},
   "outputs": [],
   "source": []
  },
  {
   "cell_type": "code",
   "execution_count": null,
   "id": "f53917e5-e4b3-4041-8cbe-09dec25cd708",
   "metadata": {},
   "outputs": [],
   "source": []
  },
  {
   "cell_type": "code",
   "execution_count": null,
   "id": "fa755a66-f467-4049-9d51-f88ccd7b3bbe",
   "metadata": {},
   "outputs": [],
   "source": []
  },
  {
   "cell_type": "code",
   "execution_count": 7,
   "id": "79e9f3d3-f797-4950-b270-8573cf8a99c2",
   "metadata": {},
   "outputs": [],
   "source": [
    "logreg = LogisticRegression()"
   ]
  },
  {
   "cell_type": "code",
   "execution_count": null,
   "id": "fd5a1d5a-6d52-48b3-a097-ad80c8794846",
   "metadata": {},
   "outputs": [],
   "source": [
    "# workflow\n",
    "\n",
    "logreg.predict() # hard class predictions\n",
    "logreg.predict_proba() # soft probability predictions\n",
    "logreg.score() # accuracy\n",
    "confusion_matrix() # need to import\n",
    "logreg.coef_\n",
    "logreg.intercept_"
   ]
  }
 ],
 "metadata": {
  "kernelspec": {
   "display_name": "Python [conda env:metis] *",
   "language": "python",
   "name": "conda-env-metis-py"
  },
  "language_info": {
   "codemirror_mode": {
    "name": "ipython",
    "version": 3
   },
   "file_extension": ".py",
   "mimetype": "text/x-python",
   "name": "python",
   "nbconvert_exporter": "python",
   "pygments_lexer": "ipython3",
   "version": "3.8.2"
  }
 },
 "nbformat": 4,
 "nbformat_minor": 5
}
